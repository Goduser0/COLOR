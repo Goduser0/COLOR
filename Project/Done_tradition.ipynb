{
 "cells": [
  {
   "cell_type": "code",
   "execution_count": 1,
   "metadata": {},
   "outputs": [
    {
     "data": {
      "text/plain": [
       "-1"
      ]
     },
     "execution_count": 1,
     "metadata": {},
     "output_type": "execute_result"
    }
   ],
   "source": [
    "import cv2\n",
    "import numpy as np\n",
    "import time\n",
    "\n",
    "def get_mean_and_std(img):\n",
    "    x_mean, x_std = cv2.meanStdDev(img)\n",
    "    x_mean = np.hstack(np.around(x_mean, 2))\n",
    "    x_std = np.hstack(np.around(x_std, 2))\n",
    "    return x_mean, x_std\n",
    "\n",
    "\n",
    "def color_transfer(sc, dc):\n",
    "    sc = cv2.cvtColor(sc, cv2.COLOR_BGR2LAB)\n",
    "    s_mean, s_std = get_mean_and_std(sc)\n",
    "    dc = cv2.cvtColor(dc, cv2.COLOR_BGR2LAB)\n",
    "    t_mean, t_std = get_mean_and_std(dc)\n",
    "    img_n = ((sc-s_mean)*(t_std/s_std))+t_mean\n",
    "    np.putmask(img_n, img_n>255, 255)\n",
    "    np.putmask(img_n, img_n<0, 0)\n",
    "    dst = cv2.cvtColor(cv2.convertScaleAbs(img_n), cv2.COLOR_LAB2BGR)\n",
    "    return dst\n",
    "\n",
    "sc = cv2.imread(\"../images/girl.jpg\", 1)\n",
    "dc = cv2.imread(\"../images/5.jpg\", 1)\n",
    "dst = color_transfer(sc, dc)\n",
    "cv2.imshow(\"sc\", sc)\n",
    "cv2.imshow(\"dc\", dc)\n",
    "cv2.imshow(\"dst\", dst)\n",
    "cv2.waitKey()"
   ]
  }
 ],
 "metadata": {
  "kernelspec": {
   "display_name": "Python 3",
   "language": "python",
   "name": "python3"
  },
  "language_info": {
   "codemirror_mode": {
    "name": "ipython",
    "version": 3
   },
   "file_extension": ".py",
   "mimetype": "text/x-python",
   "name": "python",
   "nbconvert_exporter": "python",
   "pygments_lexer": "ipython3",
   "version": "3.9.13"
  },
  "orig_nbformat": 4,
  "vscode": {
   "interpreter": {
    "hash": "fd6fea355522f5d03011281e8b79f97380be3f5d3a4f423dda187c1a42b428a4"
   }
  }
 },
 "nbformat": 4,
 "nbformat_minor": 2
}
